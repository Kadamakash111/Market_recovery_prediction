{
 "cells": [
  {
   "cell_type": "code",
   "execution_count": 16,
   "metadata": {},
   "outputs": [],
   "source": [
    "### Import library and packages for Performing Decision tree\n",
    "import pandas as pd\n",
    "import numpy as np\n",
    "from sklearn.metrics import confusion_matrix \n",
    "from sklearn.model_selection import train_test_split \n",
    "from sklearn import metrics #Import scikit-learn metrics module for accuracy calculation\n",
    "from sklearn.tree import DecisionTreeClassifier \n",
    "from sklearn.metrics import accuracy_score \n",
    "from sklearn.metrics import classification_report \n",
    "from sklearn.impute import SimpleImputer\n",
    "import matplotlib.pyplot as plt\n",
    "import seaborn as sns\n",
    "%matplotlib inline\n",
    "import plotly.graph_objs as go\n",
    "import plotly .offline as offline\n",
    "import plotly.figure_factory as ff"
   ]
  },
  {
   "cell_type": "code",
   "execution_count": 17,
   "metadata": {},
   "outputs": [],
   "source": [
    "    ### Import dataset to load data \n",
    "Market_recovery_dataset = pd.read_csv('E:/SEM2/PYTHON/CA02/Datasets/Micro-Market_Recovery_Program_-_Violations_and_Inspections.csv',sep=',')"
   ]
  },
  {
   "cell_type": "code",
   "execution_count": 18,
   "metadata": {},
   "outputs": [
    {
     "data": {
      "text/html": [
       "<div>\n",
       "<style scoped>\n",
       "    .dataframe tbody tr th:only-of-type {\n",
       "        vertical-align: middle;\n",
       "    }\n",
       "\n",
       "    .dataframe tbody tr th {\n",
       "        vertical-align: top;\n",
       "    }\n",
       "\n",
       "    .dataframe thead th {\n",
       "        text-align: right;\n",
       "    }\n",
       "</style>\n",
       "<table border=\"1\" class=\"dataframe\">\n",
       "  <thead>\n",
       "    <tr style=\"text-align: right;\">\n",
       "      <th></th>\n",
       "      <th>Template Type</th>\n",
       "      <th>Permit_or_Case_Type</th>\n",
       "      <th>Permit or Case Description</th>\n",
       "      <th>Permit or Case Primary Key</th>\n",
       "      <th>Inspection Number</th>\n",
       "      <th>Inspection Completed Date and Time</th>\n",
       "      <th>Inspected By</th>\n",
       "      <th>Inspection Type</th>\n",
       "      <th>Partial Inspection</th>\n",
       "      <th>Trip Number</th>\n",
       "      <th>...</th>\n",
       "      <th>Community Area</th>\n",
       "      <th>Ward</th>\n",
       "      <th>X Coord</th>\n",
       "      <th>Y Coord</th>\n",
       "      <th>Latitude</th>\n",
       "      <th>Longitude</th>\n",
       "      <th>Central Business District</th>\n",
       "      <th>Address Key</th>\n",
       "      <th>Address Grouping Key</th>\n",
       "      <th>Location</th>\n",
       "    </tr>\n",
       "  </thead>\n",
       "  <tbody>\n",
       "    <tr>\n",
       "      <td>0</td>\n",
       "      <td>BLDG</td>\n",
       "      <td>EL_PERM</td>\n",
       "      <td>PERMIT - ELECTRIC WIRING</td>\n",
       "      <td>1864869</td>\n",
       "      <td>2014253</td>\n",
       "      <td>07/27/2009 04:31:05 PM</td>\n",
       "      <td>PCR30745</td>\n",
       "      <td>EL_PERMIT</td>\n",
       "      <td>N</td>\n",
       "      <td>1</td>\n",
       "      <td>...</td>\n",
       "      <td>42</td>\n",
       "      <td>20</td>\n",
       "      <td>NaN</td>\n",
       "      <td>NaN</td>\n",
       "      <td>NaN</td>\n",
       "      <td>NaN</td>\n",
       "      <td>NaN</td>\n",
       "      <td>441262</td>\n",
       "      <td>19588</td>\n",
       "      <td>NaN</td>\n",
       "    </tr>\n",
       "  </tbody>\n",
       "</table>\n",
       "<p>1 rows × 43 columns</p>\n",
       "</div>"
      ],
      "text/plain": [
       "  Template Type Permit_or_Case_Type Permit or Case Description  \\\n",
       "0          BLDG             EL_PERM   PERMIT - ELECTRIC WIRING   \n",
       "\n",
       "   Permit or Case Primary Key  Inspection Number  \\\n",
       "0                     1864869            2014253   \n",
       "\n",
       "  Inspection Completed Date and Time Inspected By Inspection Type  \\\n",
       "0             07/27/2009 04:31:05 PM     PCR30745       EL_PERMIT   \n",
       "\n",
       "  Partial Inspection  Trip Number  ... Community Area Ward X Coord  Y Coord  \\\n",
       "0                  N            1  ...             42   20     NaN      NaN   \n",
       "\n",
       "  Latitude Longitude Central Business District Address Key  \\\n",
       "0      NaN       NaN                       NaN      441262   \n",
       "\n",
       "  Address Grouping Key Location  \n",
       "0                19588      NaN  \n",
       "\n",
       "[1 rows x 43 columns]"
      ]
     },
     "execution_count": 18,
     "metadata": {},
     "output_type": "execute_result"
    }
   ],
   "source": [
    "#### Glance  of 10 rows from the dataset\n",
    "Market_recovery_dataset.head(1)"
   ]
  },
  {
   "cell_type": "code",
   "execution_count": 19,
   "metadata": {},
   "outputs": [
    {
     "name": "stdout",
     "output_type": "stream",
     "text": [
      "216109\n"
     ]
    }
   ],
   "source": [
    "## Total Length of the dataset\n",
    "print(len(Market_recovery_dataset))"
   ]
  },
  {
   "cell_type": "code",
   "execution_count": 20,
   "metadata": {},
   "outputs": [
    {
     "data": {
      "text/plain": [
       "'corrheatmap.html'"
      ]
     },
     "execution_count": 20,
     "metadata": {},
     "output_type": "execute_result"
    }
   ],
   "source": [
    "# Plotting Correlation Heatmap\n",
    "corrs = Market_recovery_dataset.corr()\n",
    "figure = ff.create_annotated_heatmap(\n",
    "    z=corrs.values,\n",
    "    x=list(corrs.columns),\n",
    "    y=list(corrs.index),\n",
    "    annotation_text=corrs.round(2).values,\n",
    "    showscale=True)\n",
    "offline.plot(figure,filename='corrheatmap.html')"
   ]
  },
  {
   "cell_type": "code",
   "execution_count": 21,
   "metadata": {},
   "outputs": [
    {
     "name": "stdout",
     "output_type": "stream",
     "text": [
      "(216109, 43)\n"
     ]
    }
   ],
   "source": [
    "## Shape of the dataset includes 216109 rows and 43 columns\n",
    "print(Market_recovery_dataset.shape)"
   ]
  },
  {
   "cell_type": "code",
   "execution_count": 22,
   "metadata": {},
   "outputs": [],
   "source": [
    "## Drop un-wanted columns from the dataset whcih are not helpful for prediction \n",
    "market_recovery_new = Market_recovery_dataset.drop(['Template Type','Permit or Case Description','Inspection Completed Date and Time','Inspection Waived Date and Time','Community Area','Ward','X Coord','Y Coord','Latitude','Longitude','Address Key','Address Grouping Key','Location','Modified Date/Time','Violation Complied Date','Violation Description','Violation Code Book Text','Suffix','Post Direction','Zip Code',\n",
    "                                                   'Violation Comments','Violation Date','Violation Additional Comments','Violation Additional Comments2','Violation Sequence Number'], axis=1)"
   ]
  },
  {
   "cell_type": "code",
   "execution_count": 23,
   "metadata": {},
   "outputs": [
    {
     "data": {
      "text/html": [
       "<div>\n",
       "<style scoped>\n",
       "    .dataframe tbody tr th:only-of-type {\n",
       "        vertical-align: middle;\n",
       "    }\n",
       "\n",
       "    .dataframe tbody tr th {\n",
       "        vertical-align: top;\n",
       "    }\n",
       "\n",
       "    .dataframe thead th {\n",
       "        text-align: right;\n",
       "    }\n",
       "</style>\n",
       "<table border=\"1\" class=\"dataframe\">\n",
       "  <thead>\n",
       "    <tr style=\"text-align: right;\">\n",
       "      <th></th>\n",
       "      <th>Permit_or_Case_Type</th>\n",
       "      <th>Permit or Case Primary Key</th>\n",
       "      <th>Inspection Number</th>\n",
       "      <th>Inspected By</th>\n",
       "      <th>Inspection Type</th>\n",
       "      <th>Partial Inspection</th>\n",
       "      <th>Trip Number</th>\n",
       "      <th>Inspection Waived</th>\n",
       "      <th>Inspection Status</th>\n",
       "      <th>Violation Primary Key</th>\n",
       "      <th>Violation Code</th>\n",
       "      <th>Violation Location</th>\n",
       "      <th>Violation Status</th>\n",
       "      <th>MMRP Zone</th>\n",
       "      <th>Street Number</th>\n",
       "      <th>Pre-Direction</th>\n",
       "      <th>Street Name</th>\n",
       "      <th>Central Business District</th>\n",
       "    </tr>\n",
       "  </thead>\n",
       "  <tbody>\n",
       "    <tr>\n",
       "      <td>0</td>\n",
       "      <td>EL_PERM</td>\n",
       "      <td>1864869</td>\n",
       "      <td>2014253</td>\n",
       "      <td>PCR30745</td>\n",
       "      <td>EL_PERMIT</td>\n",
       "      <td>N</td>\n",
       "      <td>1</td>\n",
       "      <td>N</td>\n",
       "      <td>CLOSED</td>\n",
       "      <td>NaN</td>\n",
       "      <td>NaN</td>\n",
       "      <td>NaN</td>\n",
       "      <td>NaN</td>\n",
       "      <td>West Woodlawn</td>\n",
       "      <td>6414</td>\n",
       "      <td>S</td>\n",
       "      <td>COTTAGE GROVE</td>\n",
       "      <td>NaN</td>\n",
       "    </tr>\n",
       "  </tbody>\n",
       "</table>\n",
       "</div>"
      ],
      "text/plain": [
       "  Permit_or_Case_Type  Permit or Case Primary Key  Inspection Number  \\\n",
       "0             EL_PERM                     1864869            2014253   \n",
       "\n",
       "  Inspected By Inspection Type Partial Inspection  Trip Number  \\\n",
       "0     PCR30745       EL_PERMIT                  N            1   \n",
       "\n",
       "  Inspection Waived Inspection Status  Violation Primary Key Violation Code  \\\n",
       "0                 N            CLOSED                    NaN            NaN   \n",
       "\n",
       "  Violation Location Violation Status      MMRP Zone  Street Number  \\\n",
       "0                NaN              NaN  West Woodlawn           6414   \n",
       "\n",
       "  Pre-Direction    Street Name Central Business District  \n",
       "0             S  COTTAGE GROVE                       NaN  "
      ]
     },
     "execution_count": 23,
     "metadata": {},
     "output_type": "execute_result"
    }
   ],
   "source": [
    "### View for first 10 records for the new dataset after dropping the columns\n",
    "market_recovery_new.head(1)"
   ]
  },
  {
   "cell_type": "code",
   "execution_count": 24,
   "metadata": {},
   "outputs": [],
   "source": [
    "### Drop missing values \n",
    "\n",
    "market_recovery =  market_recovery_new\n",
    "###\n",
    "### market_recovery_new.dropna()"
   ]
  },
  {
   "cell_type": "code",
   "execution_count": 25,
   "metadata": {},
   "outputs": [
    {
     "data": {
      "text/plain": [
       "Index(['Permit_or_Case_Type', 'Permit or Case Primary Key',\n",
       "       'Inspection Number', 'Inspected By', 'Inspection Type',\n",
       "       'Partial Inspection', 'Trip Number', 'Inspection Waived',\n",
       "       'Inspection Status', 'Violation Primary Key', 'Violation Code',\n",
       "       'Violation Location', 'Violation Status', 'MMRP Zone', 'Street Number',\n",
       "       'Pre-Direction', 'Street Name', 'Central Business District'],\n",
       "      dtype='object')"
      ]
     },
     "execution_count": 25,
     "metadata": {},
     "output_type": "execute_result"
    }
   ],
   "source": [
    "market_recovery.columns"
   ]
  },
  {
   "cell_type": "code",
   "execution_count": 26,
   "metadata": {},
   "outputs": [],
   "source": [
    "## Final dataset for the dataset of market and recovery columns with proper column names here also the column names are replaced with proper names\n",
    "market_recovery.columns = ['Permit_or_Case_Type','Permit_or_Case_Primary_Key','Inspection_Number','Inspected_By','Inspection_Type','Partial_Inspection'\n",
    "                           ,'Trip_Number','Inspection_Waived','Inspection_Status', 'Violation_Primary_Key','Violation_Code','Violation_Location','Violation_Status','MMRP_Zone', 'Street_Number',\n",
    "       'Pre_Direction', 'Street_Name', 'Central_Business_District']"
   ]
  },
  {
   "cell_type": "code",
   "execution_count": 27,
   "metadata": {},
   "outputs": [
    {
     "data": {
      "text/plain": [
       "'corrheatmap.html'"
      ]
     },
     "execution_count": 27,
     "metadata": {},
     "output_type": "execute_result"
    }
   ],
   "source": [
    "# Plotting Correlation Heatmap\n",
    "corrs = market_recovery.corr()\n",
    "figure = ff.create_annotated_heatmap(\n",
    "    z=corrs.values,\n",
    "    x=list(corrs.columns),\n",
    "    y=list(corrs.index),\n",
    "    annotation_text=corrs.round(2).values,\n",
    "    showscale=True)\n",
    "offline.plot(figure,filename='corrheatmap.html')"
   ]
  },
  {
   "cell_type": "code",
   "execution_count": 205,
   "metadata": {},
   "outputs": [
    {
     "data": {
      "text/plain": [
       "Inspection_Status    1.0\n",
       "Name: Inspection_Status, dtype: float64"
      ]
     },
     "execution_count": 205,
     "metadata": {},
     "output_type": "execute_result"
    }
   ],
   "source": [
    "#Correlation with output variable\n",
    "cor_target = abs(cor[\"Inspection_Status\"])\n",
    "#Selecting highly correlated features\n",
    "relevant_features = cor_target[cor_target>0.5]\n",
    "relevant_features"
   ]
  },
  {
   "cell_type": "code",
   "execution_count": 206,
   "metadata": {},
   "outputs": [],
   "source": [
    "## For preprocessing and working on the dataset importing the library \n",
    "\n",
    "from sklearn import preprocessing"
   ]
  },
  {
   "cell_type": "code",
   "execution_count": 207,
   "metadata": {},
   "outputs": [],
   "source": [
    "#### Impute the missing values for columns in the dataset which was used for logistic regression \n",
    "imp_values = SimpleImputer(strategy=\"most_frequent\")"
   ]
  },
  {
   "cell_type": "code",
   "execution_count": 208,
   "metadata": {},
   "outputs": [],
   "source": [
    "replace_Inspected_By = market_recovery['Inspected_By'].values\n",
    "replace_Inspection_Status = market_recovery['Inspection_Status'].values\n",
    "replace_Violation_Primary_Key = market_recovery['Violation_Primary_Key'].values\n",
    "replace_Violation_Code = market_recovery['Violation_Code'].values\n",
    "replace_Violation_Location = market_recovery['Violation_Location'].values\n",
    "replace_Violation_Status = market_recovery['Violation_Status'].values"
   ]
  },
  {
   "cell_type": "code",
   "execution_count": 209,
   "metadata": {},
   "outputs": [],
   "source": [
    "## Impute the missing values in the columns\n",
    "market_recovery['Inspected_By'] = imp_values.fit_transform(market_recovery[['Inspected_By']]).ravel()\n",
    "market_recovery['Inspection_Status'] = imp_values.fit_transform(market_recovery[['Inspection_Status']]).ravel()\n",
    "market_recovery['Violation_Primary_Key'] = imp_values.fit_transform(market_recovery[['Violation_Primary_Key']]).ravel()\n",
    "market_recovery['Violation_Code'] = imp_values.fit_transform(market_recovery[['Violation_Code']]).ravel()\n",
    "market_recovery['Violation_Location'] = imp_values.fit_transform(market_recovery[['Violation_Location']]).ravel()"
   ]
  },
  {
   "cell_type": "code",
   "execution_count": 210,
   "metadata": {},
   "outputs": [],
   "source": [
    "market_recovery['Inspection_Waived'] = imp_values.fit_transform(market_recovery[['Inspection_Waived']]).ravel()"
   ]
  },
  {
   "cell_type": "code",
   "execution_count": 211,
   "metadata": {},
   "outputs": [],
   "source": [
    "market_recovery['Partial_Inspection'] = imp_values.fit_transform(market_recovery[['Partial_Inspection']]).ravel()"
   ]
  },
  {
   "cell_type": "code",
   "execution_count": 212,
   "metadata": {},
   "outputs": [],
   "source": [
    "market_recovery['Violation_Status'] = imp_values.fit_transform(market_recovery[['Violation_Status']]).ravel()"
   ]
  },
  {
   "cell_type": "code",
   "execution_count": 28,
   "metadata": {},
   "outputs": [
    {
     "data": {
      "text/plain": [
       "Permit_or_Case_Type                0\n",
       "Permit_or_Case_Primary_Key         0\n",
       "Inspection_Number                  0\n",
       "Inspected_By                    3028\n",
       "Inspection_Type                    0\n",
       "Partial_Inspection                 5\n",
       "Trip_Number                        0\n",
       "Inspection_Waived               4054\n",
       "Inspection_Status                  0\n",
       "Violation_Primary_Key          37981\n",
       "Violation_Code                 37981\n",
       "Violation_Location             37999\n",
       "Violation_Status              132923\n",
       "MMRP_Zone                          0\n",
       "Street_Number                      0\n",
       "Pre_Direction                      0\n",
       "Street_Name                        0\n",
       "Central_Business_District     213522\n",
       "dtype: int64"
      ]
     },
     "execution_count": 28,
     "metadata": {},
     "output_type": "execute_result"
    }
   ],
   "source": [
    "market_recovery.isnull().sum()"
   ]
  },
  {
   "cell_type": "code",
   "execution_count": 214,
   "metadata": {},
   "outputs": [
    {
     "name": "stdout",
     "output_type": "stream",
     "text": [
      "       Permit_or_Case_Type  Permit_or_Case_Primary_Key  Inspection_Number  \\\n",
      "0                  EL_PERM                     1864869            2014253   \n",
      "1                RENO_PERM                     1518016            1716399   \n",
      "2                  ES_PERM                      741255             196798   \n",
      "3                RENO_PERM                     1755375            1824188   \n",
      "4                  ES_PERM                      741218             712896   \n",
      "...                    ...                         ...                ...   \n",
      "216104            TB_COMPL                     2719578           11723474   \n",
      "216105            TB_COMPL                     2462101           12091225   \n",
      "216106           STF_COMPL                     2460151           10929757   \n",
      "216107           BLDG_PERM                     1429445           10924124   \n",
      "216108            TB_COMPL                     2458064           11681806   \n",
      "\n",
      "       Inspected_By Inspection_Type Partial_Inspection  Trip_Number  \\\n",
      "0          PCR30745       EL_PERMIT                  N            1   \n",
      "1           BL00615       VT_ANNUAL                  N            1   \n",
      "2            252716       ES_ANNUAL                  N            1   \n",
      "3          PCR30745       RF_PERMIT                  N            1   \n",
      "4            252716       ES_ANNUAL                  N            1   \n",
      "...             ...             ...                ...          ...   \n",
      "216104      BL00871       CHECKLIST                  N            1   \n",
      "216105      BL01036      DEMO COURT                  N            1   \n",
      "216106      BL00876             STF                  N            1   \n",
      "216107      BL00804       CN_ANNUAL                  N            6   \n",
      "216108      BL00883      DEMO COURT                  N            1   \n",
      "\n",
      "       Inspection_Waived Inspection_Status  Violation_Primary_Key  \\\n",
      "0                      N            CLOSED               243726.0   \n",
      "1                      N            PASSED               243726.0   \n",
      "2                      N            PASSED               243726.0   \n",
      "3                      N            CLOSED               243726.0   \n",
      "4                      N            PASSED               243726.0   \n",
      "...                  ...               ...                    ...   \n",
      "216104                 N            CLOSED              5274926.0   \n",
      "216105                 N            CLOSED              5627207.0   \n",
      "216106                 N            FAILED              4429257.0   \n",
      "216107                 N            FAILED              4840056.0   \n",
      "216108                 N            CLOSED              5379988.0   \n",
      "\n",
      "       Violation_Code          Violation_Location Violation_Status  \\\n",
      "0            CN193110                    SEQ #: 1         COMPLIED   \n",
      "1            CN193110                    SEQ #: 1         COMPLIED   \n",
      "2            CN193110                    SEQ #: 1         COMPLIED   \n",
      "3            CN193110                    SEQ #: 1         COMPLIED   \n",
      "4            CN193110                    SEQ #: 1         COMPLIED   \n",
      "...               ...                         ...              ...   \n",
      "216104       CN193019                  SEQ #: 003         COMPLIED   \n",
      "216105       CN193019                  SEQ #: 002           CLOSED   \n",
      "216106       CN073024                  SEQ #: 011          PCR1129   \n",
      "216107       CN138106  SEQ #: 048\\nINTERIOR:004 :         COMPLIED   \n",
      "216108       CN193029                  SEQ #: 003           CLOSED   \n",
      "\n",
      "            MMRP_Zone  Street_Number Pre_Direction          Street_Name  \\\n",
      "0       West Woodlawn           6414             S        COTTAGE GROVE   \n",
      "1       West Woodlawn           6349             S        COTTAGE GROVE   \n",
      "2       West Woodlawn           6425             S        COTTAGE GROVE   \n",
      "3       West Woodlawn           6349             S        COTTAGE GROVE   \n",
      "4       West Woodlawn           6315             S        COTTAGE GROVE   \n",
      "...               ...            ...           ...                  ...   \n",
      "216104  West Woodlawn            402             E                 61ST   \n",
      "216105   West Pullman          11709             S               MORGAN   \n",
      "216106         Austin           5251             W            FERDINAND   \n",
      "216107  West Woodlawn           6244             S  DR MARTIN L KING JR   \n",
      "216108  West Woodlawn            413             E                 60TH   \n",
      "\n",
      "       Central_Business_District  \n",
      "0                            NaN  \n",
      "1                            NaN  \n",
      "2                            NaN  \n",
      "3                            NaN  \n",
      "4                            NaN  \n",
      "...                          ...  \n",
      "216104                       NaN  \n",
      "216105                       NaN  \n",
      "216106                       NaN  \n",
      "216107                       NaN  \n",
      "216108                       NaN  \n",
      "\n",
      "[216109 rows x 18 columns]\n"
     ]
    }
   ],
   "source": [
    "## Printing the dataset with new column names\n",
    "print(market_recovery)"
   ]
  },
  {
   "cell_type": "code",
   "execution_count": 380,
   "metadata": {},
   "outputs": [],
   "source": [
    "### Feature selection for columns \n",
    "feature_columns = ['Inspection_Number'\n",
    "                    ,'Trip_Number','Inspection_Waived', 'Violation_Primary_Key','Violation_Location','Violation_Status']\n",
    "target_column = ['Inspection_Status']"
   ]
  },
  {
   "cell_type": "code",
   "execution_count": 381,
   "metadata": {},
   "outputs": [
    {
     "data": {
      "image/png": "[encoded data removed]",
      "text/plain": [
       "<Figure size 864x720 with 2 Axes>"
      ]
     },
     "metadata": {
      "needs_background": "light"
     },
     "output_type": "display_data"
    }
   ],
   "source": [
    "#Using Pearson Correlation\n",
    "plt.figure(figsize=(12,10))\n",
    "cor = market_recovery.corr()\n",
    "sns.heatmap(cor, annot=True, cmap=plt.cm.Reds)\n",
    "plt.show()"
   ]
  },
  {
   "cell_type": "code",
   "execution_count": 382,
   "metadata": {},
   "outputs": [
    {
     "name": "stdout",
     "output_type": "stream",
     "text": [
      "['Inspection_Number', 'Trip_Number', 'Inspection_Waived', 'Violation_Primary_Key', 'Violation_Location', 'Violation_Status']\n",
      "['Inspection_Status']\n"
     ]
    }
   ],
   "source": [
    "print(feature_columns)\n",
    "print(target_column)"
   ]
  },
  {
   "cell_type": "code",
   "execution_count": 383,
   "metadata": {},
   "outputs": [],
   "source": [
    "number = preprocessing.LabelEncoder()\n",
    "market_recovery['Permit_or_Case_Type'] = number.fit_transform(market_recovery.Permit_or_Case_Type)\n",
    "\n",
    "market_recovery['Inspected_By'] = number.fit_transform(market_recovery.Inspected_By)"
   ]
  },
  {
   "cell_type": "code",
   "execution_count": 384,
   "metadata": {},
   "outputs": [],
   "source": [
    "market_recovery['Inspection_Number'] = number.fit_transform(market_recovery.Inspection_Number)\n",
    "market_recovery['Partial_Inspection'] = number.fit_transform(market_recovery.Partial_Inspection)\n",
    "market_recovery['Inspection_Waived'] = number.fit_transform(market_recovery.Inspection_Waived)\n",
    "market_recovery['Violation_Primary_Key'] = number.fit_transform(market_recovery.Violation_Primary_Key)\n",
    "market_recovery['Violation_Code'] = number.fit_transform(market_recovery.Violation_Code)\n",
    "market_recovery['Violation_Location'] = number.fit_transform(market_recovery.Violation_Location)\n",
    "market_recovery['Violation_Status'] = number.fit_transform(market_recovery.Violation_Status)\n",
    "market_recovery['Inspection_Status'] = number.fit_transform(market_recovery.Inspection_Status)\n",
    "\n",
    "market_recovery['Inspection_Status'] = number.fit_transform(market_recovery.Inspection_Status)"
   ]
  },
  {
   "cell_type": "code",
   "execution_count": 385,
   "metadata": {},
   "outputs": [],
   "source": [
    "market_recovery['Inspection_Type'] = number.fit_transform(market_recovery.Inspection_Type)\n",
    "market_recovery['MMRP_Zone'] = number.fit_transform(market_recovery.MMRP_Zone)\n",
    "market_recovery['Street_Number'] = number.fit_transform(market_recovery.Street_Number)\n",
    "market_recovery['Pre_Direction'] = number.fit_transform(market_recovery.Pre_Direction)\n",
    "market_recovery['Street_Name'] = number.fit_transform(market_recovery.Street_Name)\n"
   ]
  },
  {
   "cell_type": "code",
   "execution_count": 386,
   "metadata": {},
   "outputs": [
    {
     "data": {
      "text/html": [
       "<div>\n",
       "<style scoped>\n",
       "    .dataframe tbody tr th:only-of-type {\n",
       "        vertical-align: middle;\n",
       "    }\n",
       "\n",
       "    .dataframe tbody tr th {\n",
       "        vertical-align: top;\n",
       "    }\n",
       "\n",
       "    .dataframe thead th {\n",
       "        text-align: right;\n",
       "    }\n",
       "</style>\n",
       "<table border=\"1\" class=\"dataframe\">\n",
       "  <thead>\n",
       "    <tr style=\"text-align: right;\">\n",
       "      <th></th>\n",
       "      <th>Permit_or_Case_Type</th>\n",
       "      <th>Permit_or_Case_Primary_Key</th>\n",
       "      <th>Inspection_Number</th>\n",
       "      <th>Inspected_By</th>\n",
       "      <th>Inspection_Type</th>\n",
       "      <th>Partial_Inspection</th>\n",
       "      <th>Trip_Number</th>\n",
       "      <th>Inspection_Waived</th>\n",
       "      <th>Inspection_Status</th>\n",
       "      <th>Violation_Primary_Key</th>\n",
       "      <th>Violation_Code</th>\n",
       "      <th>Violation_Location</th>\n",
       "      <th>Violation_Status</th>\n",
       "      <th>MMRP_Zone</th>\n",
       "      <th>Street_Number</th>\n",
       "      <th>Pre_Direction</th>\n",
       "      <th>Street_Name</th>\n",
       "      <th>Central_Business_District</th>\n",
       "    </tr>\n",
       "  </thead>\n",
       "  <tbody>\n",
       "    <tr>\n",
       "      <td>0</td>\n",
       "      <td>10</td>\n",
       "      <td>1864869</td>\n",
       "      <td>21261</td>\n",
       "      <td>426</td>\n",
       "      <td>17</td>\n",
       "      <td>0</td>\n",
       "      <td>1</td>\n",
       "      <td>0</td>\n",
       "      <td>1</td>\n",
       "      <td>1726</td>\n",
       "      <td>329</td>\n",
       "      <td>11277</td>\n",
       "      <td>4</td>\n",
       "      <td>13</td>\n",
       "      <td>1949</td>\n",
       "      <td>2</td>\n",
       "      <td>53</td>\n",
       "      <td>NaN</td>\n",
       "    </tr>\n",
       "    <tr>\n",
       "      <td>1</td>\n",
       "      <td>27</td>\n",
       "      <td>1518016</td>\n",
       "      <td>16423</td>\n",
       "      <td>286</td>\n",
       "      <td>62</td>\n",
       "      <td>0</td>\n",
       "      <td>1</td>\n",
       "      <td>0</td>\n",
       "      <td>4</td>\n",
       "      <td>1726</td>\n",
       "      <td>329</td>\n",
       "      <td>11277</td>\n",
       "      <td>4</td>\n",
       "      <td>13</td>\n",
       "      <td>1917</td>\n",
       "      <td>2</td>\n",
       "      <td>53</td>\n",
       "      <td>NaN</td>\n",
       "    </tr>\n",
       "    <tr>\n",
       "      <td>2</td>\n",
       "      <td>13</td>\n",
       "      <td>741255</td>\n",
       "      <td>1248</td>\n",
       "      <td>56</td>\n",
       "      <td>19</td>\n",
       "      <td>0</td>\n",
       "      <td>1</td>\n",
       "      <td>0</td>\n",
       "      <td>4</td>\n",
       "      <td>1726</td>\n",
       "      <td>329</td>\n",
       "      <td>11277</td>\n",
       "      <td>4</td>\n",
       "      <td>13</td>\n",
       "      <td>1960</td>\n",
       "      <td>2</td>\n",
       "      <td>53</td>\n",
       "      <td>NaN</td>\n",
       "    </tr>\n",
       "    <tr>\n",
       "      <td>3</td>\n",
       "      <td>27</td>\n",
       "      <td>1755375</td>\n",
       "      <td>17489</td>\n",
       "      <td>426</td>\n",
       "      <td>58</td>\n",
       "      <td>0</td>\n",
       "      <td>1</td>\n",
       "      <td>0</td>\n",
       "      <td>1</td>\n",
       "      <td>1726</td>\n",
       "      <td>329</td>\n",
       "      <td>11277</td>\n",
       "      <td>4</td>\n",
       "      <td>13</td>\n",
       "      <td>1917</td>\n",
       "      <td>2</td>\n",
       "      <td>53</td>\n",
       "      <td>NaN</td>\n",
       "    </tr>\n",
       "    <tr>\n",
       "      <td>4</td>\n",
       "      <td>13</td>\n",
       "      <td>741218</td>\n",
       "      <td>4985</td>\n",
       "      <td>56</td>\n",
       "      <td>19</td>\n",
       "      <td>0</td>\n",
       "      <td>1</td>\n",
       "      <td>0</td>\n",
       "      <td>4</td>\n",
       "      <td>1726</td>\n",
       "      <td>329</td>\n",
       "      <td>11277</td>\n",
       "      <td>4</td>\n",
       "      <td>13</td>\n",
       "      <td>1883</td>\n",
       "      <td>2</td>\n",
       "      <td>53</td>\n",
       "      <td>NaN</td>\n",
       "    </tr>\n",
       "    <tr>\n",
       "      <td>5</td>\n",
       "      <td>10</td>\n",
       "      <td>1685540</td>\n",
       "      <td>13565</td>\n",
       "      <td>426</td>\n",
       "      <td>17</td>\n",
       "      <td>0</td>\n",
       "      <td>1</td>\n",
       "      <td>0</td>\n",
       "      <td>1</td>\n",
       "      <td>1726</td>\n",
       "      <td>329</td>\n",
       "      <td>11277</td>\n",
       "      <td>4</td>\n",
       "      <td>13</td>\n",
       "      <td>1955</td>\n",
       "      <td>2</td>\n",
       "      <td>53</td>\n",
       "      <td>NaN</td>\n",
       "    </tr>\n",
       "    <tr>\n",
       "      <td>6</td>\n",
       "      <td>33</td>\n",
       "      <td>2864168</td>\n",
       "      <td>61627</td>\n",
       "      <td>73</td>\n",
       "      <td>37</td>\n",
       "      <td>0</td>\n",
       "      <td>1</td>\n",
       "      <td>0</td>\n",
       "      <td>2</td>\n",
       "      <td>157224</td>\n",
       "      <td>340</td>\n",
       "      <td>86</td>\n",
       "      <td>4</td>\n",
       "      <td>13</td>\n",
       "      <td>1954</td>\n",
       "      <td>2</td>\n",
       "      <td>53</td>\n",
       "      <td>NaN</td>\n",
       "    </tr>\n",
       "    <tr>\n",
       "      <td>7</td>\n",
       "      <td>27</td>\n",
       "      <td>2726946</td>\n",
       "      <td>56258</td>\n",
       "      <td>128</td>\n",
       "      <td>51</td>\n",
       "      <td>0</td>\n",
       "      <td>2</td>\n",
       "      <td>0</td>\n",
       "      <td>4</td>\n",
       "      <td>1726</td>\n",
       "      <td>329</td>\n",
       "      <td>11277</td>\n",
       "      <td>4</td>\n",
       "      <td>13</td>\n",
       "      <td>1883</td>\n",
       "      <td>2</td>\n",
       "      <td>53</td>\n",
       "      <td>NaN</td>\n",
       "    </tr>\n",
       "    <tr>\n",
       "      <td>8</td>\n",
       "      <td>13</td>\n",
       "      <td>729979</td>\n",
       "      <td>1431</td>\n",
       "      <td>166</td>\n",
       "      <td>19</td>\n",
       "      <td>0</td>\n",
       "      <td>1</td>\n",
       "      <td>0</td>\n",
       "      <td>4</td>\n",
       "      <td>1726</td>\n",
       "      <td>329</td>\n",
       "      <td>11277</td>\n",
       "      <td>4</td>\n",
       "      <td>13</td>\n",
       "      <td>1873</td>\n",
       "      <td>2</td>\n",
       "      <td>53</td>\n",
       "      <td>NaN</td>\n",
       "    </tr>\n",
       "    <tr>\n",
       "      <td>9</td>\n",
       "      <td>13</td>\n",
       "      <td>1830273</td>\n",
       "      <td>26882</td>\n",
       "      <td>56</td>\n",
       "      <td>19</td>\n",
       "      <td>0</td>\n",
       "      <td>1</td>\n",
       "      <td>0</td>\n",
       "      <td>4</td>\n",
       "      <td>1726</td>\n",
       "      <td>329</td>\n",
       "      <td>11277</td>\n",
       "      <td>4</td>\n",
       "      <td>13</td>\n",
       "      <td>1917</td>\n",
       "      <td>2</td>\n",
       "      <td>53</td>\n",
       "      <td>NaN</td>\n",
       "    </tr>\n",
       "  </tbody>\n",
       "</table>\n",
       "</div>"
      ],
      "text/plain": [
       "   Permit_or_Case_Type  Permit_or_Case_Primary_Key  Inspection_Number  \\\n",
       "0                   10                     1864869              21261   \n",
       "1                   27                     1518016              16423   \n",
       "2                   13                      741255               1248   \n",
       "3                   27                     1755375              17489   \n",
       "4                   13                      741218               4985   \n",
       "5                   10                     1685540              13565   \n",
       "6                   33                     2864168              61627   \n",
       "7                   27                     2726946              56258   \n",
       "8                   13                      729979               1431   \n",
       "9                   13                     1830273              26882   \n",
       "\n",
       "   Inspected_By  Inspection_Type  Partial_Inspection  Trip_Number  \\\n",
       "0           426               17                   0            1   \n",
       "1           286               62                   0            1   \n",
       "2            56               19                   0            1   \n",
       "3           426               58                   0            1   \n",
       "4            56               19                   0            1   \n",
       "5           426               17                   0            1   \n",
       "6            73               37                   0            1   \n",
       "7           128               51                   0            2   \n",
       "8           166               19                   0            1   \n",
       "9            56               19                   0            1   \n",
       "\n",
       "   Inspection_Waived  Inspection_Status  Violation_Primary_Key  \\\n",
       "0                  0                  1                   1726   \n",
       "1                  0                  4                   1726   \n",
       "2                  0                  4                   1726   \n",
       "3                  0                  1                   1726   \n",
       "4                  0                  4                   1726   \n",
       "5                  0                  1                   1726   \n",
       "6                  0                  2                 157224   \n",
       "7                  0                  4                   1726   \n",
       "8                  0                  4                   1726   \n",
       "9                  0                  4                   1726   \n",
       "\n",
       "   Violation_Code  Violation_Location  Violation_Status  MMRP_Zone  \\\n",
       "0             329               11277                 4         13   \n",
       "1             329               11277                 4         13   \n",
       "2             329               11277                 4         13   \n",
       "3             329               11277                 4         13   \n",
       "4             329               11277                 4         13   \n",
       "5             329               11277                 4         13   \n",
       "6             340                  86                 4         13   \n",
       "7             329               11277                 4         13   \n",
       "8             329               11277                 4         13   \n",
       "9             329               11277                 4         13   \n",
       "\n",
       "   Street_Number  Pre_Direction  Street_Name Central_Business_District  \n",
       "0           1949              2           53                       NaN  \n",
       "1           1917              2           53                       NaN  \n",
       "2           1960              2           53                       NaN  \n",
       "3           1917              2           53                       NaN  \n",
       "4           1883              2           53                       NaN  \n",
       "5           1955              2           53                       NaN  \n",
       "6           1954              2           53                       NaN  \n",
       "7           1883              2           53                       NaN  \n",
       "8           1873              2           53                       NaN  \n",
       "9           1917              2           53                       NaN  "
      ]
     },
     "execution_count": 386,
     "metadata": {},
     "output_type": "execute_result"
    }
   ],
   "source": [
    "market_recovery.head(10)"
   ]
  },
  {
   "cell_type": "code",
   "execution_count": 387,
   "metadata": {},
   "outputs": [],
   "source": [
    "X = market_recovery[feature_columns] # Features\n",
    "y = market_recovery[target_column] # Target variable"
   ]
  },
  {
   "cell_type": "code",
   "execution_count": 388,
   "metadata": {},
   "outputs": [],
   "source": [
    "from sklearn.model_selection import train_test_split"
   ]
  },
  {
   "cell_type": "code",
   "execution_count": 389,
   "metadata": {},
   "outputs": [],
   "source": [
    "## Function for spliting the dataset into 70 percent testing data and 30 percent training data \n",
    "x_train,x_test,y_train,y_test = train_test_split(X,y,test_size=0.4,random_state=1)\n"
   ]
  },
  {
   "cell_type": "code",
   "execution_count": 390,
   "metadata": {},
   "outputs": [],
   "source": [
    "# Create Decision Tree classifer object\n",
    "clf = DecisionTreeClassifier()"
   ]
  },
  {
   "cell_type": "code",
   "execution_count": 391,
   "metadata": {},
   "outputs": [],
   "source": [
    "# Train Decision Tree Classifer\n",
    "clf = clf.fit(x_train,y_train)"
   ]
  },
  {
   "cell_type": "code",
   "execution_count": 392,
   "metadata": {},
   "outputs": [],
   "source": [
    "#Predict the response for test dataset\n",
    "y_pred = clf.predict(x_test)"
   ]
  },
  {
   "cell_type": "code",
   "execution_count": 393,
   "metadata": {},
   "outputs": [
    {
     "name": "stdout",
     "output_type": "stream",
     "text": [
      "Accuracy: 0.9232335384757763\n"
     ]
    }
   ],
   "source": [
    "# Model Accuracy, how often is the classifier correct?\n",
    "print(\"Accuracy:\",metrics.accuracy_score(y_test, y_pred))"
   ]
  },
  {
   "cell_type": "code",
   "execution_count": null,
   "metadata": {},
   "outputs": [],
   "source": []
  },
  {
   "cell_type": "code",
   "execution_count": null,
   "metadata": {},
   "outputs": [],
   "source": []
  },
  {
   "cell_type": "code",
   "execution_count": null,
   "metadata": {},
   "outputs": [],
   "source": []
  },
  {
   "cell_type": "code",
   "execution_count": null,
   "metadata": {},
   "outputs": [],
   "source": []
  }
 ],
 "metadata": {
  "kernelspec": {
   "display_name": "Python 3",
   "language": "python",
   "name": "python3"
  },
  "language_info": {
   "codemirror_mode": {
    "name": "ipython",
    "version": 3
   },
   "file_extension": ".py",
   "mimetype": "text/x-python",
   "name": "python",
   "nbconvert_exporter": "python",
   "pygments_lexer": "ipython3",
   "version": "3.7.4"
  }
 },
 "nbformat": 4,
 "nbformat_minor": 2
}
